{
 "cells": [
  {
   "cell_type": "markdown",
   "id": "0fedf5c0-f746-4c2e-ac44-c67152761018",
   "metadata": {},
   "source": [
    "esto es una prueba\n"
   ]
  },
  {
   "cell_type": "code",
   "execution_count": null,
   "id": "57eaed56-5134-4df0-99bb-74533067a493",
   "metadata": {},
   "outputs": [],
   "source": [
    "print(\"Hola mundo\")\n"
   ]
  },
  {
   "cell_type": "code",
   "execution_count": 1,
   "id": "9284896a-bb17-4f0c-9498-1458502f0f17",
   "metadata": {},
   "outputs": [],
   "source": [
    "mivar= \"hola test\"\n"
   ]
  },
  {
   "cell_type": "code",
   "execution_count": null,
   "id": "003a1226-1b25-4d03-8bed-67df95f5232d",
   "metadata": {},
   "outputs": [],
   "source": []
  },
  {
   "cell_type": "code",
   "execution_count": null,
   "id": "4b4c1f55-ccf3-4312-97c7-cfcfb2de853b",
   "metadata": {},
   "outputs": [],
   "source": []
  },
  {
   "cell_type": "code",
   "execution_count": 2,
   "id": "000d04ed-f215-480d-8935-97056ab8b52e",
   "metadata": {},
   "outputs": [
    {
     "name": "stdout",
     "output_type": "stream",
     "text": [
      "hola test\n"
     ]
    }
   ],
   "source": [
    "print(mivar)"
   ]
  },
  {
   "cell_type": "code",
   "execution_count": 3,
   "id": "e6d7b97f-fed7-4474-bd90-17e5be9cd3d7",
   "metadata": {},
   "outputs": [],
   "source": [
    "import numpy as np"
   ]
  },
  {
   "cell_type": "code",
   "execution_count": 4,
   "id": "d73037b0-c816-4316-b415-a5b231f2572e",
   "metadata": {},
   "outputs": [],
   "source": [
    "a = np.zeros((2,4))"
   ]
  },
  {
   "cell_type": "code",
   "execution_count": 5,
   "id": "c9bdf6ca-098e-4bfd-98d3-a361f8e64937",
   "metadata": {},
   "outputs": [
    {
     "data": {
      "text/plain": [
       "array([[0., 0., 0., 0.],\n",
       "       [0., 0., 0., 0.]])"
      ]
     },
     "execution_count": 5,
     "metadata": {},
     "output_type": "execute_result"
    }
   ],
   "source": [
    "a"
   ]
  },
  {
   "cell_type": "code",
   "execution_count": 6,
   "id": "ae57e557-e047-49d3-abf5-3b40cc0a70bb",
   "metadata": {},
   "outputs": [
    {
     "data": {
      "text/plain": [
       "(2, 4)"
      ]
     },
     "execution_count": 6,
     "metadata": {},
     "output_type": "execute_result"
    }
   ],
   "source": [
    "a.shape\n"
   ]
  },
  {
   "cell_type": "code",
   "execution_count": 7,
   "id": "6f7c47a4-ea71-4468-b83f-d2f5f38a6b25",
   "metadata": {},
   "outputs": [
    {
     "data": {
      "text/plain": [
       "8"
      ]
     },
     "execution_count": 7,
     "metadata": {},
     "output_type": "execute_result"
    }
   ],
   "source": [
    "a.size"
   ]
  },
  {
   "cell_type": "code",
   "execution_count": 8,
   "id": "b6c9e6d6-eb81-477f-851c-675c1da9e650",
   "metadata": {},
   "outputs": [
    {
     "data": {
      "text/plain": [
       "array([[9, 9],\n",
       "       [9, 9]])"
      ]
     },
     "execution_count": 8,
     "metadata": {},
     "output_type": "execute_result"
    }
   ],
   "source": [
    "np.full((2,2),9)"
   ]
  },
  {
   "cell_type": "code",
   "execution_count": null,
   "id": "ee0d5838-7251-456d-ac84-28c2794eab1e",
   "metadata": {},
   "outputs": [],
   "source": []
  }
 ],
 "metadata": {
  "kernelspec": {
   "display_name": "Python 3 (ipykernel)",
   "language": "python",
   "name": "python3"
  },
  "language_info": {
   "codemirror_mode": {
    "name": "ipython",
    "version": 3
   },
   "file_extension": ".py",
   "mimetype": "text/x-python",
   "name": "python",
   "nbconvert_exporter": "python",
   "pygments_lexer": "ipython3",
   "version": "3.12.9"
  }
 },
 "nbformat": 4,
 "nbformat_minor": 5
}
