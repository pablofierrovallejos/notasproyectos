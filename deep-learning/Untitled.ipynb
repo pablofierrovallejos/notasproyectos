{
 "cells": [
  {
   "cell_type": "markdown",
   "id": "0fedf5c0-f746-4c2e-ac44-c67152761018",
   "metadata": {},
   "source": [
    "esto es una prueba\n"
   ]
  },
  {
   "cell_type": "code",
   "execution_count": 1,
   "id": "57eaed56-5134-4df0-99bb-74533067a493",
   "metadata": {},
   "outputs": [
    {
     "name": "stdout",
     "output_type": "stream",
     "text": [
      "Hola mundo\n"
     ]
    }
   ],
   "source": [
    "print(\"Hola mundo\")\n"
   ]
  },
  {
   "cell_type": "code",
   "execution_count": null,
   "id": "9284896a-bb17-4f0c-9498-1458502f0f17",
   "metadata": {},
   "outputs": [],
   "source": []
  }
 ],
 "metadata": {
  "kernelspec": {
   "display_name": "Python 3 (ipykernel)",
   "language": "python",
   "name": "python3"
  },
  "language_info": {
   "codemirror_mode": {
    "name": "ipython",
    "version": 3
   },
   "file_extension": ".py",
   "mimetype": "text/x-python",
   "name": "python",
   "nbconvert_exporter": "python",
   "pygments_lexer": "ipython3",
   "version": "3.12.9"
  }
 },
 "nbformat": 4,
 "nbformat_minor": 5
}
